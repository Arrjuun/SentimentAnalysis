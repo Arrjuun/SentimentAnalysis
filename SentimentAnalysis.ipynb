{
 "cells": [
  {
   "cell_type": "code",
   "execution_count": 1,
   "metadata": {
    "collapsed": true
   },
   "outputs": [],
   "source": [
    "import re\n",
    "import pandas as pd\n",
    "from nltk.corpus import stopwords\n",
    "import numpy as np\n",
    "import sklearn\n",
    "from sklearn.naive_bayes import MultinomialNB\n",
    "from nltk.stem.snowball import SnowballStemmer\n",
    "from sklearn.linear_model import LogisticRegression\n",
    "from sklearn.decomposition import PCA\n",
    "from sklearn.metrics import accuracy_score ,confusion_matrix\n",
    "from sklearn.ensemble import RandomForestClassifier"
   ]
  },
  {
   "cell_type": "code",
   "execution_count": 2,
   "metadata": {
    "collapsed": true
   },
   "outputs": [],
   "source": [
    "def get_words( tweets ):               \n",
    "    tweets_onlyletters = re.sub(\"[^a-zA-Z]\", \" \",tweets) #Remove everything other than letters     \n",
    "    words = tweets_onlyletters.lower().split() #Convert to lower case, split into individual words   \n",
    "    #words = [w for w in words if len(w) > 2]\n",
    "    for index in range(len(words)):\n",
    "        words[index] = SnowballStemmer(\"english\").stem(words[index])\n",
    "    stops = set(stopwords.words(\"english\"))  #Convert the stopwords to a set for improvised performance                 \n",
    "    meaningful_words = [w for w in words if not w in stops]   #Removing stopwords\n",
    "    return( \" \".join( meaningful_words )) #Joining the words"
   ]
  },
  {
   "cell_type": "code",
   "execution_count": 3,
   "metadata": {
    "collapsed": true
   },
   "outputs": [],
   "source": [
    "column_names = ['polarity','id','date','query','user','text']\n",
    "df = pd.read_csv(\"train.csv\", encoding = \"ISO-8859-1\", header = None, names = column_names)\n",
    "df1 = df.sample(frac=1).groupby('polarity', sort=False).head(80000)"
   ]
  },
  {
   "cell_type": "code",
   "execution_count": 4,
   "metadata": {
    "collapsed": true
   },
   "outputs": [],
   "source": [
    "X_train, X_test, Y_train, Y_test = sklearn.model_selection.train_test_split(df1[\"text\"], df1[\"polarity\"], test_size = 0.2)\n",
    "X_train = np.array(X_train);\n",
    "X_test = np.array(X_test);\n",
    "Y_train = np.array(Y_train);\n",
    "Y_test = np.array(Y_test);\n",
    "cleanTweets_train = [] #To append processed headlines\n",
    "cleanTweets_test = [] #To append processed headlines\n",
    "number_Tweets_train = len(X_train) #Calculating the number of reviews\n",
    "number_Tweets_test = len(X_test) #Calculating the number of reviews"
   ]
  },
  {
   "cell_type": "code",
   "execution_count": 5,
   "metadata": {
    "collapsed": true
   },
   "outputs": [],
   "source": [
    "for i in range(0,number_Tweets_train):\n",
    "    cleanTweet = get_words(X_train[i]) #Processing the data and getting words with no special characters, numbers or html tags\n",
    "    cleanTweets_train.append( cleanTweet )"
   ]
  },
  {
   "cell_type": "code",
   "execution_count": 6,
   "metadata": {
    "collapsed": true
   },
   "outputs": [],
   "source": [
    "for i in range(0,number_Tweets_test):\n",
    "    cleanTweet = get_words(X_test[i]) #Processing the data and getting words with no special characters, numbers or html tags\n",
    "    cleanTweets_test.append( cleanTweet )"
   ]
  },
  {
   "cell_type": "code",
   "execution_count": 7,
   "metadata": {
    "collapsed": true
   },
   "outputs": [],
   "source": [
    "vectorize = sklearn.feature_extraction.text.CountVectorizer(analyzer = \"word\", max_features = 4000,\n",
    "                                                           stop_words = \"english\", \n",
    "                                                           min_df = 50, ngram_range = (1,4)) #max_features = 5000, ngram_range = (1,4),\n",
    "bagOfWords_train = vectorize.fit_transform(cleanTweets_train)\n",
    "X_train = bagOfWords_train.toarray()\n",
    "\n",
    "bagOfWords_test = vectorize.transform(cleanTweets_test)\n",
    "X_test = bagOfWords_test.toarray()"
   ]
  },
  {
   "cell_type": "code",
   "execution_count": 8,
   "metadata": {},
   "outputs": [
    {
     "name": "stdout",
     "output_type": "stream",
     "text": [
      "0.73878125\n",
      "[[12287  3695]\n",
      " [ 4664 11354]]\n"
     ]
    }
   ],
   "source": [
    "vocab = vectorize.get_feature_names()\n",
    "nb = MultinomialNB()\n",
    "nb.fit(X_train, Y_train)\n",
    "print(nb.score(X_test, Y_test))\n",
    "nb_predict = nb.predict(X_test)\n",
    "cm_nb = confusion_matrix(Y_test,nb_predict)\n",
    "print(cm_nb)"
   ]
  },
  {
   "cell_type": "code",
   "execution_count": 9,
   "metadata": {},
   "outputs": [
    {
     "name": "stdout",
     "output_type": "stream",
     "text": [
      "0.75178125\n",
      "[[11403  4579]\n",
      " [ 3364 12654]]\n"
     ]
    }
   ],
   "source": [
    "logistic_Regression = LogisticRegression()\n",
    "logistic_Regression.fit(X_train,Y_train)\n",
    "Y_predict = logistic_Regression.predict(X_test)\n",
    "print(accuracy_score(Y_test,Y_predict))\n",
    "cm_lr = confusion_matrix(Y_test,Y_predict)\n",
    "print(cm_lr)"
   ]
  },
  {
   "cell_type": "code",
   "execution_count": 10,
   "metadata": {
    "collapsed": true
   },
   "outputs": [],
   "source": [
    "import pickle\n",
    "with open('logistic_regression_model.pickle', 'wb') as f:\n",
    "    # Pickle the 'data' dictionary using the highest protocol available.\n",
    "    pickle.dump(logistic_Regression, f, pickle.HIGHEST_PROTOCOL)"
   ]
  },
  {
   "cell_type": "code",
   "execution_count": 11,
   "metadata": {
    "collapsed": true
   },
   "outputs": [],
   "source": [
    "with open('vectorizer.pickle', 'wb') as f:\n",
    "    # Pickle the 'data' dictionary using the highest protocol available.\n",
    "    pickle.dump(vectorize, f, pickle.HIGHEST_PROTOCOL)"
   ]
  },
  {
   "cell_type": "code",
   "execution_count": 12,
   "metadata": {
    "collapsed": true
   },
   "outputs": [],
   "source": [
    "with open('nb.pickle', 'wb') as f:\n",
    "    # Pickle the 'data' dictionary using the highest protocol available.\n",
    "    pickle.dump(nb, f, pickle.HIGHEST_PROTOCOL)"
   ]
  },
  {
   "cell_type": "code",
   "execution_count": 19,
   "metadata": {},
   "outputs": [
    {
     "name": "stdout",
     "output_type": "stream",
     "text": [
      "Precision of Naive Bayes method 0.768802402703\n",
      "Recall of Naive Bayes method 0.724853990915\n"
     ]
    }
   ],
   "source": [
    "nb_tp = cm_nb[0,0]\n",
    "nb_fp = cm_nb[0,1]\n",
    "nb_fn = cm_nb[1,0]\n",
    "nb_tn = cm_nb[1,1]\n",
    "print(\"Precision of Naive Bayes method\", (nb_tp/(nb_tp+nb_fp)))\n",
    "print(\"Recall of Naive Bayes method\", (nb_tp/(nb_tp+nb_fn)))"
   ]
  },
  {
   "cell_type": "code",
   "execution_count": 21,
   "metadata": {},
   "outputs": [
    {
     "name": "stdout",
     "output_type": "stream",
     "text": [
      "Precision of Logistic Regression method 0.713490176449\n",
      "Recall of Logistic Regression method 0.772194758583\n"
     ]
    }
   ],
   "source": [
    "lr_tp = cm_lr[0,0]\n",
    "lr_fp = cm_lr[0,1]\n",
    "lr_fn = cm_lr[1,0]\n",
    "lr_tn = cm_lr[1,1]\n",
    "print(\"Precision of Logistic Regression method\", (lr_tp/(lr_tp+lr_fp)))\n",
    "print(\"Recall of Logistic Regression method\", (lr_tp/(lr_tp+lr_fn)))"
   ]
  },
  {
   "cell_type": "code",
   "execution_count": null,
   "metadata": {
    "collapsed": true
   },
   "outputs": [],
   "source": []
  }
 ],
 "metadata": {
  "kernelspec": {
   "display_name": "Python 3",
   "language": "python",
   "name": "python3"
  },
  "language_info": {
   "codemirror_mode": {
    "name": "ipython",
    "version": 3
   },
   "file_extension": ".py",
   "mimetype": "text/x-python",
   "name": "python",
   "nbconvert_exporter": "python",
   "pygments_lexer": "ipython3",
   "version": "3.5.2"
  }
 },
 "nbformat": 4,
 "nbformat_minor": 2
}
