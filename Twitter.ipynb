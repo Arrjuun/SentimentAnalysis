{
 "cells": [
  {
   "cell_type": "code",
   "execution_count": 1,
   "metadata": {
    "collapsed": true
   },
   "outputs": [],
   "source": [
    "import tweepy\n",
    "\n",
    "import re\n",
    "import pandas as pd\n",
    "from nltk.corpus import stopwords\n",
    "import numpy as np\n",
    "import sklearn\n",
    "from nltk.stem.snowball import SnowballStemmer\n",
    "import json\n"
   ]
  },
  {
   "cell_type": "code",
   "execution_count": 2,
   "metadata": {},
   "outputs": [],
   "source": [
    "# Reading data back\n",
    "with open('keys.json', 'r') as f:\n",
    "     data = json.load(f)"
   ]
  },
  {
   "cell_type": "code",
   "execution_count": 3,
   "metadata": {
    "collapsed": true
   },
   "outputs": [],
   "source": [
    "\n",
    "import pickle\n",
    "with open('logistic_regression_model.pickle', 'rb') as f:\n",
    "    # The protocol version used is detected automatically, so we do not\n",
    "    # have to specify it.\n",
    "    lr_model = pickle.load(f)\n",
    "\n",
    "with open('vectorizer.pickle', 'rb') as f:\n",
    "    # The protocol version used is detected automatically, so we do not\n",
    "    # have to specify it.\n",
    "    vectorize = pickle.load(f)\n",
    "\n",
    "with open('nb.pickle', 'rb') as f:\n",
    "    # The protocol version used is detected automatically, so we do not\n",
    "    # have to specify it.\n",
    "    nb = pickle.load(f)"
   ]
  },
  {
   "cell_type": "code",
   "execution_count": 4,
   "metadata": {
    "collapsed": true
   },
   "outputs": [],
   "source": [
    "auth = tweepy.auth.OAuthHandler(data[\"CONSUMER_KEY\"], data[\"CONSUMER_SECRET\"])\n",
    "auth.set_access_token(data[\"ACCESS_KEY\"], data[\"ACCESS_SECRET\"])\n",
    "api = tweepy.API(auth)\n",
    "search_results = api.search(q=\"google #stock\", lang=\"en\", rpp=100, count=100)"
   ]
  },
  {
   "cell_type": "code",
   "execution_count": 5,
   "metadata": {},
   "outputs": [
    {
     "name": "stdout",
     "output_type": "stream",
     "text": [
      "Stock Bangladesh-Share Update https://t.co/keQgxEQfj7  #StockMarket #stockexchange #stock #sharemarket @bdnews24com @ProthomAlo #Bangladesh\n",
      "Bitcoin Passes $5,000\n",
      "\n",
      "https://t.co/OlqCEMQcQz\n",
      "\n",
      "#Bitcoin @Bitcoin @BTCTN #Stock #Technology https://t.co/vP8Qvxm5wh\n",
      "This FANG Stock Attempts Breakout; How To Play Apple: S&amp;P 500 Futures - Investor's Business Daily -… https://t.co/DYGDZcNsry\n",
      "#Commodity #MCX #Stock #Market #opening Bell #gold #silver #copper #crudeoil #news #TradeIndia Research-13th Octobe… https://t.co/CXt7KzsgBu\n",
      "#Special #Offer\n",
      "#New #Catalouge\n",
      "#Ready #To #Stock\n",
      "https://t.co/HJkUuPPtRw.\n",
      "Interested Buyer,Retailer Contact on: 80… https://t.co/kikKEI9O32\n",
      "Google stock just broke $1000/share. Can u imagine having bought it at IPO around $25/share? I WISH 😭 #google… https://t.co/4SmOlSrgUR\n",
      "#Stock pick of the day: Google Inc (GOOG) is a SELL at $989.25.. https://t.co/Gt9tKIfQ8d\n",
      "Public #Companies   are #listed on the #stock exchange - 1800customer service number \n",
      "@Google @Yahoo @1800customer https://t.co/diJISu1tUP\n",
      "Commodity #MCX #Stock #Market #opening Bell #gold #silver #copper #crudeoil #news Trad Tips - 12th October 2017… https://t.co/amREjKAfv6\n",
      "#Equity #MCX #Stock #Market #opening Bell #gold #silver #copper #crudeoil #news #TradeIndia Research - 12 th Octobe… https://t.co/lB8EF37ysF\n",
      "#Special #Offer #New #Arrivals #New #Catalogue #Ready #To #Stock For Daily New Update https://t.co/Pb7G6g5uvR … &amp; C… https://t.co/WsShpsFWyR\n",
      "Google is the internet !! #google #googl #goog #stock #market #tech #technology #epic #internet #monster https://t.co/CstW1GOIwa\n",
      "Commodity #Stock #Market  #international #Opening #Updates  #gold #silver #copper #crudeoil #news-11th October  201… https://t.co/CajBERVPzd\n",
      "#Special #Offer #New #Arrivals #New #Catalogue #Ready #To #Stock For Daily New Update https://t.co/zpdQVM6rSu &amp; Con… https://t.co/lulgCSFy3L\n",
      "#Accurate #Trading #Signals of #Malaysia #KLSE #Stock #Market &amp; #Forex to Make #Money &amp; Increase #Profit\n",
      "https://t.co/41nIyleJ2d\n",
      "#Commodity #MCX #Stock #Market #opening Bell #gold #silver #copper #crudeoil #news #TradeIndia Research-11th Octobe… https://t.co/TdaJOwzQC8\n",
      "#Stock &amp; #Investing research made easy! https://t.co/XqBBej4CpL #Smartphone #androidApp #StockMarket #wealthbuildingtips #Money #finance\n",
      "Here are 7 advantages that a #stock #market #app that you can instantly get after having one:  https://t.co/ZtkTFIQqI7\n",
      "Understanding how to read a #stock ticker and the #Google #finance page https://t.co/Lm1s9Eu2df\n",
      "#Tradingpeek #Trading #Forex #Stock #Index\n",
      "#Google Daily Technical Analysis | 10 October 2017\n",
      "Read more..… https://t.co/c82K2oRrxF\n",
      "#Commodity #MCX #Stock #Market #opening #gold #silver #copper #crudeoil #news #TradeIndia Research - 10th October… https://t.co/ahJh5Z8X4B\n",
      "#stock Google 'uncovers Russian ad campaign linked to US election': The search giant has evidence that agents tried… https://t.co/8Uwr6xAIbA\n",
      "#Commodity #MCX #Stock #Market #opening Bell #gold #silver #copper #crudeoil #news #TradeIndia Research-9th October… https://t.co/7CQzOQkGmV\n",
      "#Free #Stock this is no scam, google Robinhood. \n",
      "\n",
      "https://t.co/chGug8dQDT https://t.co/WZtndgKjUl\n",
      "Understanding how to read a #stock ticker and the #Google #finance page https://t.co/oEwjSHAUKj\n",
      "Calculate #Stock Price Volatility In 6 Steps read full article @ https://t.co/o43C1YSc5X  download an app… https://t.co/UzKXAVF0xD\n",
      "RT @SinnerSkins: Opening Bell: 10 Things to Know Before the Open #stock $AAPL $NFLX #investing  https://t.co/IhCsNPqL8K\n",
      "Opening Bell: 10 Things to Know Before the Open #stock $AAPL $NFLX #investing  https://t.co/IhCsNPqL8K\n",
      "Google...What Can I Say !! #google #googl #stock #tech #internet #goog #technology #epic #monster https://t.co/LS8CtqQEba\n",
      "Google is the internet !! #google #googl #goog #stock #market #tech #technology #epic #internet #monster https://t.co/bawdX88joA\n",
      "Commodity #MCX #Stock #Market #opening Bell #gold #silver #copper #crudeoil #news TradeIndia Research - 6 th Octobe… https://t.co/uQjSDe1Cul\n",
      "Commodity #MCX #Stock #Market #opening Bell #gold #silver #copper #crudeoil #news TradeIndia Research - 5th October… https://t.co/dtD0GUmn0S\n"
     ]
    }
   ],
   "source": [
    "for i in range(0,len(search_results)):\n",
    "    print(search_results[i].text)"
   ]
  },
  {
   "cell_type": "code",
   "execution_count": 6,
   "metadata": {},
   "outputs": [
    {
     "name": "stdout",
     "output_type": "stream",
     "text": [
      "32\n"
     ]
    }
   ],
   "source": [
    "print(len(search_results))"
   ]
  },
  {
   "cell_type": "code",
   "execution_count": 7,
   "metadata": {
    "collapsed": true
   },
   "outputs": [],
   "source": [
    "def get_words( tweets ):               \n",
    "    tweets_onlyletters = re.sub(\"[^a-zA-Z]\", \" \",tweets) #Remove everything other than letters     \n",
    "    words = tweets_onlyletters.lower().split() #Convert to lower case, split into individual words   \n",
    "    #words = [w for w in words if len(w) > 2]\n",
    "    for index in range(len(words)):\n",
    "        words[index] = SnowballStemmer(\"english\").stem(words[index])\n",
    "    stops = set(stopwords.words(\"english\"))  #Convert the stopwords to a set for improvised performance                 \n",
    "    meaningful_words = [w for w in words if not w in stops]   #Removing stopwords\n",
    "    return( \" \".join( meaningful_words )) #Joining the words"
   ]
  },
  {
   "cell_type": "code",
   "execution_count": 8,
   "metadata": {
    "collapsed": true
   },
   "outputs": [],
   "source": [
    "cleanTweets = []\n",
    "for i in range(0,len(search_results)):\n",
    "    cleanTweet = get_words(search_results[i].text) #Processing the data and getting words with no special characters, numbers or html tags\n",
    "    cleanTweets.append( cleanTweet )"
   ]
  },
  {
   "cell_type": "code",
   "execution_count": 9,
   "metadata": {},
   "outputs": [
    {
     "data": {
      "text/plain": [
       "32"
      ]
     },
     "execution_count": 9,
     "metadata": {},
     "output_type": "execute_result"
    }
   ],
   "source": [
    "len(cleanTweets)"
   ]
  },
  {
   "cell_type": "code",
   "execution_count": 10,
   "metadata": {
    "collapsed": true
   },
   "outputs": [],
   "source": [
    "bagOfWords_test = vectorize.transform(cleanTweets)\n",
    "test = bagOfWords_test.toarray()"
   ]
  },
  {
   "cell_type": "code",
   "execution_count": 11,
   "metadata": {
    "collapsed": true
   },
   "outputs": [],
   "source": [
    "Y_predict = lr_model.predict(test)"
   ]
  },
  {
   "cell_type": "code",
   "execution_count": 12,
   "metadata": {},
   "outputs": [
    {
     "name": "stdout",
     "output_type": "stream",
     "text": [
      "Positive 14\n"
     ]
    }
   ],
   "source": [
    "print(\"Positive\",np.count_nonzero(Y_predict == 4))"
   ]
  },
  {
   "cell_type": "code",
   "execution_count": 13,
   "metadata": {
    "collapsed": true
   },
   "outputs": [],
   "source": [
    "y_predict = nb.predict(test)"
   ]
  },
  {
   "cell_type": "code",
   "execution_count": 14,
   "metadata": {},
   "outputs": [
    {
     "name": "stdout",
     "output_type": "stream",
     "text": [
      "Positive 14\n"
     ]
    }
   ],
   "source": [
    "print(\"Positive\",np.count_nonzero(Y_predict == 4))"
   ]
  },
  {
   "cell_type": "code",
   "execution_count": 15,
   "metadata": {},
   "outputs": [
    {
     "name": "stdout",
     "output_type": "stream",
     "text": [
      "Negative 18\n"
     ]
    }
   ],
   "source": [
    "print(\"Negative\",np.count_nonzero(Y_predict == 0))"
   ]
  },
  {
   "cell_type": "code",
   "execution_count": null,
   "metadata": {
    "collapsed": true
   },
   "outputs": [],
   "source": []
  }
 ],
 "metadata": {
  "kernelspec": {
   "display_name": "Python 3",
   "language": "python",
   "name": "python3"
  },
  "language_info": {
   "codemirror_mode": {
    "name": "ipython",
    "version": 3
   },
   "file_extension": ".py",
   "mimetype": "text/x-python",
   "name": "python",
   "nbconvert_exporter": "python",
   "pygments_lexer": "ipython3",
   "version": "3.5.2"
  }
 },
 "nbformat": 4,
 "nbformat_minor": 2
}
